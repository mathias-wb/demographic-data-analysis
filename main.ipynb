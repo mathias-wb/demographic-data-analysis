{
 "cells": [
  {
   "cell_type": "code",
   "execution_count": 3,
   "metadata": {},
   "outputs": [],
   "source": [
    "import pandas as pd\n",
    "\n",
    "# Read data from file\n",
    "df = pd.read_csv(\"adult.data.csv\")"
   ]
  },
  {
   "cell_type": "code",
   "execution_count": 8,
   "metadata": {},
   "outputs": [
    {
     "name": "stdout",
     "output_type": "stream",
     "text": [
      "Number of each race:\n",
      " race\n",
      "White                 27816\n",
      "Black                  3124\n",
      "Asian-Pac-Islander     1039\n",
      "Amer-Indian-Eskimo      311\n",
      "Other                   271\n",
      "Name: count, dtype: int64\n"
     ]
    }
   ],
   "source": [
    "# How many of each race are represented in this dataset?\n",
    "race_count = df.value_counts(\"race\")\n",
    "print(\"Number of each race:\\n\", race_count)"
   ]
  },
  {
   "cell_type": "code",
   "execution_count": 9,
   "metadata": {},
   "outputs": [
    {
     "name": "stdout",
     "output_type": "stream",
     "text": [
      "Average age of men: 39.4\n"
     ]
    }
   ],
   "source": [
    "# What is the average age of men?\n",
    "average_age_men = round(df.groupby(\"sex\")[\"age\"].mean()[\"Male\"], 1)\n",
    "print(\"Average age of men:\", average_age_men)"
   ]
  },
  {
   "cell_type": "code",
   "execution_count": 10,
   "metadata": {},
   "outputs": [
    {
     "name": "stdout",
     "output_type": "stream",
     "text": [
      "Percentage with Bachelors degrees: 16.4%\n"
     ]
    }
   ],
   "source": [
    "# What is the percentage of people who have a Bachelor's degree?\n",
    "percentage_bachelors = round(df.value_counts(\"education\")[\"Bachelors\"] / \n",
    "    df.shape[0] * 100, 1)\n",
    "print(f\"Percentage with Bachelors degrees: {percentage_bachelors}%\")"
   ]
  },
  {
   "cell_type": "code",
   "execution_count": 12,
   "metadata": {},
   "outputs": [
    {
     "name": "stdout",
     "output_type": "stream",
     "text": [
      "Percentage with higher education that earn >50K: 46.5% \n",
      "Percentage without higher education that earn >50K: 17.4%\n"
     ]
    }
   ],
   "source": [
    "# What percentage of people with advanced education (`Bachelors`, `Masters`, or `Doctorate`) make more than 50K?\n",
    "higher_education = df.loc[df[\"education\"].isin(\n",
    "    [\"Bachelors\", \"Masters\", \"Doctorate\"])]\n",
    "\n",
    "# Alternatively:\n",
    "# higher_education = df.where(df[\"education\"].isin(\n",
    "#   [\"Bachelors\", \"Masters\", \"Doctorate\"])).dropna()\n",
    "\n",
    "higher_education_rich = round(\n",
    "    higher_education.value_counts(\"salary\")[\">50K\"] /\n",
    "    higher_education.shape[0] * 100, 1)\n",
    "\n",
    "\n",
    "# What percentage of people without advanced education make more than 50K?\n",
    "lower_education = df.loc[-df[\"education\"].isin(\n",
    "    [\"Bachelors\", \"Masters\", \"Doctorate\"])]\n",
    "\n",
    "# Alternatively:\n",
    "# lower_education = df.mask(df[\"education\"].isin(\n",
    "#   [\"Bachelors\", \"Masters\", \"Doctorate\"])).dropna()\n",
    "\n",
    "lower_education_rich = round(\n",
    "    lower_education.value_counts(\"salary\")[\">50K\"] /\n",
    "    lower_education.shape[0] * 100, 1)\n",
    "\n",
    "print(\n",
    "    f\"Percentage with higher education that earn >50K: {higher_education_rich}% \\n\\\n",
    "Percentage without higher education that earn >50K: {lower_education_rich}%\"\n",
    ")\n"
   ]
  },
  {
   "cell_type": "code",
   "execution_count": 13,
   "metadata": {},
   "outputs": [
    {
     "name": "stdout",
     "output_type": "stream",
     "text": [
      "Min work time: 1 hours/week\n"
     ]
    }
   ],
   "source": [
    "# What is the minimum number of hours a person works per week (hours-per-week feature)?\n",
    "min_work_hours = df[\"hours-per-week\"].min()\n",
    "print(f\"Min work time: {min_work_hours} hours/week\")\n"
   ]
  },
  {
   "cell_type": "code",
   "execution_count": 17,
   "metadata": {},
   "outputs": [
    {
     "name": "stdout",
     "output_type": "stream",
     "text": [
      "Percentage of rich among those who work fewest hours: 10.0%\n"
     ]
    }
   ],
   "source": [
    "# What percentage of the people who work the minimum number of hours per week have a salary of >50K?\n",
    "num_min_workers = df.loc[df[\"hours-per-week\"] == min_work_hours]\n",
    "rich_percentage = round(\n",
    "    num_min_workers.value_counts(\"salary\")[\">50K\"] /\n",
    "    num_min_workers.shape[0] * 100, 1)\n",
    "print(\n",
    "    f\"Percentage of rich among those who work fewest hours: {rich_percentage}%\"\n",
    ")\n"
   ]
  },
  {
   "cell_type": "code",
   "execution_count": 22,
   "metadata": {},
   "outputs": [
    {
     "name": "stdout",
     "output_type": "stream",
     "text": [
      "Country with highest percentage of rich people: Iran\n",
      "Highest percentage of rich people in country: 41.9%\n"
     ]
    }
   ],
   "source": [
    "# What country has the highest percentage of people that earn >50K?\n",
    "richest_workers = df.loc[df[\"salary\"] == \">50K\"].value_counts(\n",
    "    \"native-country\")\n",
    "total_workers = df.value_counts(\"native-country\")\n",
    "highest_earning_country = (richest_workers / total_workers * 100).idxmax()\n",
    "highest_earning_country_percentage = round(\n",
    "    (richest_workers / total_workers * 100).max(), 1)\n",
    "print(f\"Country with highest percentage of rich people: \\\n",
    "{highest_earning_country}\")\n",
    "print(f\"Highest percentage of rich people in country: \\\n",
    "{highest_earning_country_percentage}%\")\n"
   ]
  },
  {
   "cell_type": "code",
   "execution_count": 24,
   "metadata": {},
   "outputs": [
    {
     "name": "stdout",
     "output_type": "stream",
     "text": [
      "Top occupations in India: Prof-specialty\n"
     ]
    }
   ],
   "source": [
    "# Identify the most popular occupation for those who earn >50K in India.\n",
    "top_IN_occupation = df.loc[(df[\"salary\"] == \">50K\") & (\n",
    "    df[\"native-country\"] == \"India\")].value_counts(\"occupation\").idxmax()\n",
    "print(f\"Top occupations in India: {top_IN_occupation}\")\n"
   ]
  }
 ],
 "metadata": {
  "kernelspec": {
   "display_name": "Python 3",
   "language": "python",
   "name": "python3"
  },
  "language_info": {
   "codemirror_mode": {
    "name": "ipython",
    "version": 3
   },
   "file_extension": ".py",
   "mimetype": "text/x-python",
   "name": "python",
   "nbconvert_exporter": "python",
   "pygments_lexer": "ipython3",
   "version": "3.12.3"
  }
 },
 "nbformat": 4,
 "nbformat_minor": 2
}
